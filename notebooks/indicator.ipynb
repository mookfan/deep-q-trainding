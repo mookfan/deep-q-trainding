{
 "cells": [
  {
   "cell_type": "code",
   "execution_count": 2,
   "metadata": {},
   "outputs": [],
   "source": [
    "import pandas as pd\n",
    "import pandas_ta as ta"
   ]
  },
  {
   "cell_type": "code",
   "execution_count": 4,
   "metadata": {},
   "outputs": [],
   "source": [
    "df = pd.read_csv('SET_DLY_ICHI_MA9,D.csv')"
   ]
  },
  {
   "cell_type": "code",
   "execution_count": 6,
   "metadata": {},
   "outputs": [
    {
     "data": {
      "text/html": [
       "<div>\n",
       "<style scoped>\n",
       "    .dataframe tbody tr th:only-of-type {\n",
       "        vertical-align: middle;\n",
       "    }\n",
       "\n",
       "    .dataframe tbody tr th {\n",
       "        vertical-align: top;\n",
       "    }\n",
       "\n",
       "    .dataframe thead th {\n",
       "        text-align: right;\n",
       "    }\n",
       "</style>\n",
       "<table border=\"1\" class=\"dataframe\">\n",
       "  <thead>\n",
       "    <tr style=\"text-align: right;\">\n",
       "      <th></th>\n",
       "      <th>ADX_14</th>\n",
       "      <th>DMP_14</th>\n",
       "      <th>DMN_14</th>\n",
       "    </tr>\n",
       "  </thead>\n",
       "  <tbody>\n",
       "    <tr>\n",
       "      <th>0</th>\n",
       "      <td>NaN</td>\n",
       "      <td>NaN</td>\n",
       "      <td>NaN</td>\n",
       "    </tr>\n",
       "    <tr>\n",
       "      <th>1</th>\n",
       "      <td>NaN</td>\n",
       "      <td>NaN</td>\n",
       "      <td>NaN</td>\n",
       "    </tr>\n",
       "    <tr>\n",
       "      <th>2</th>\n",
       "      <td>NaN</td>\n",
       "      <td>NaN</td>\n",
       "      <td>NaN</td>\n",
       "    </tr>\n",
       "    <tr>\n",
       "      <th>3</th>\n",
       "      <td>NaN</td>\n",
       "      <td>NaN</td>\n",
       "      <td>NaN</td>\n",
       "    </tr>\n",
       "    <tr>\n",
       "      <th>4</th>\n",
       "      <td>NaN</td>\n",
       "      <td>NaN</td>\n",
       "      <td>NaN</td>\n",
       "    </tr>\n",
       "    <tr>\n",
       "      <th>...</th>\n",
       "      <td>...</td>\n",
       "      <td>...</td>\n",
       "      <td>...</td>\n",
       "    </tr>\n",
       "    <tr>\n",
       "      <th>1066</th>\n",
       "      <td>21.702183</td>\n",
       "      <td>23.306204</td>\n",
       "      <td>12.613046</td>\n",
       "    </tr>\n",
       "    <tr>\n",
       "      <th>1067</th>\n",
       "      <td>22.278455</td>\n",
       "      <td>22.420783</td>\n",
       "      <td>12.133867</td>\n",
       "    </tr>\n",
       "    <tr>\n",
       "      <th>1068</th>\n",
       "      <td>22.295488</td>\n",
       "      <td>21.124386</td>\n",
       "      <td>13.359647</td>\n",
       "    </tr>\n",
       "    <tr>\n",
       "      <th>1069</th>\n",
       "      <td>21.814464</td>\n",
       "      <td>19.886097</td>\n",
       "      <td>14.530482</td>\n",
       "    </tr>\n",
       "    <tr>\n",
       "      <th>1070</th>\n",
       "      <td>21.367798</td>\n",
       "      <td>18.705270</td>\n",
       "      <td>13.667669</td>\n",
       "    </tr>\n",
       "  </tbody>\n",
       "</table>\n",
       "<p>1071 rows × 3 columns</p>\n",
       "</div>"
      ],
      "text/plain": [
       "         ADX_14     DMP_14     DMN_14\n",
       "0           NaN        NaN        NaN\n",
       "1           NaN        NaN        NaN\n",
       "2           NaN        NaN        NaN\n",
       "3           NaN        NaN        NaN\n",
       "4           NaN        NaN        NaN\n",
       "...         ...        ...        ...\n",
       "1066  21.702183  23.306204  12.613046\n",
       "1067  22.278455  22.420783  12.133867\n",
       "1068  22.295488  21.124386  13.359647\n",
       "1069  21.814464  19.886097  14.530482\n",
       "1070  21.367798  18.705270  13.667669\n",
       "\n",
       "[1071 rows x 3 columns]"
      ]
     },
     "execution_count": 6,
     "metadata": {},
     "output_type": "execute_result"
    }
   ],
   "source": [
    "df.ta.adx(append=True)"
   ]
  },
  {
   "cell_type": "code",
   "execution_count": 12,
   "metadata": {},
   "outputs": [],
   "source": [
    "df.to_csv('SET_DLY_ICHI_IND.csv', index=False)"
   ]
  },
  {
   "cell_type": "code",
   "execution_count": 9,
   "metadata": {},
   "outputs": [
    {
     "data": {
      "text/plain": [
       "0             NaN\n",
       "1             NaN\n",
       "2             NaN\n",
       "3             NaN\n",
       "4             NaN\n",
       "          ...    \n",
       "1066    61.642682\n",
       "1067    61.642682\n",
       "1068    54.805689\n",
       "1069    58.139077\n",
       "1070    53.860885\n",
       "Name: RSI_14, Length: 1071, dtype: float64"
      ]
     },
     "execution_count": 9,
     "metadata": {},
     "output_type": "execute_result"
    }
   ],
   "source": [
    "df.ta.rsi(append=True)"
   ]
  },
  {
   "cell_type": "code",
   "execution_count": 11,
   "metadata": {},
   "outputs": [
    {
     "data": {
      "text/html": [
       "<div>\n",
       "<style scoped>\n",
       "    .dataframe tbody tr th:only-of-type {\n",
       "        vertical-align: middle;\n",
       "    }\n",
       "\n",
       "    .dataframe tbody tr th {\n",
       "        vertical-align: top;\n",
       "    }\n",
       "\n",
       "    .dataframe thead th {\n",
       "        text-align: right;\n",
       "    }\n",
       "</style>\n",
       "<table border=\"1\" class=\"dataframe\">\n",
       "  <thead>\n",
       "    <tr style=\"text-align: right;\">\n",
       "      <th></th>\n",
       "      <th>time</th>\n",
       "      <th>open</th>\n",
       "      <th>high</th>\n",
       "      <th>low</th>\n",
       "      <th>close</th>\n",
       "      <th>MA</th>\n",
       "      <th>Smoothing Line</th>\n",
       "      <th>Volume</th>\n",
       "      <th>Volume MA</th>\n",
       "      <th>ADX_14</th>\n",
       "      <th>DMP_14</th>\n",
       "      <th>DMN_14</th>\n",
       "      <th>RSI_14</th>\n",
       "    </tr>\n",
       "  </thead>\n",
       "  <tbody>\n",
       "    <tr>\n",
       "      <th>0</th>\n",
       "      <td>2018-11-05T02:00:00Z</td>\n",
       "      <td>3.487277</td>\n",
       "      <td>3.487277</td>\n",
       "      <td>3.435993</td>\n",
       "      <td>3.435993</td>\n",
       "      <td>3.441692</td>\n",
       "      <td>3.462585</td>\n",
       "      <td>190600</td>\n",
       "      <td>870980.00</td>\n",
       "      <td>NaN</td>\n",
       "      <td>NaN</td>\n",
       "      <td>NaN</td>\n",
       "      <td>NaN</td>\n",
       "    </tr>\n",
       "    <tr>\n",
       "      <th>1</th>\n",
       "      <td>2018-11-06T02:00:00Z</td>\n",
       "      <td>3.435993</td>\n",
       "      <td>3.453088</td>\n",
       "      <td>3.401804</td>\n",
       "      <td>3.401804</td>\n",
       "      <td>3.439792</td>\n",
       "      <td>3.450809</td>\n",
       "      <td>463500</td>\n",
       "      <td>842750.00</td>\n",
       "      <td>NaN</td>\n",
       "      <td>NaN</td>\n",
       "      <td>NaN</td>\n",
       "      <td>NaN</td>\n",
       "    </tr>\n",
       "    <tr>\n",
       "      <th>2</th>\n",
       "      <td>2018-11-07T02:00:00Z</td>\n",
       "      <td>3.453088</td>\n",
       "      <td>3.470182</td>\n",
       "      <td>3.401804</td>\n",
       "      <td>3.453088</td>\n",
       "      <td>3.435993</td>\n",
       "      <td>3.443591</td>\n",
       "      <td>296100</td>\n",
       "      <td>776440.00</td>\n",
       "      <td>NaN</td>\n",
       "      <td>NaN</td>\n",
       "      <td>NaN</td>\n",
       "      <td>NaN</td>\n",
       "    </tr>\n",
       "    <tr>\n",
       "      <th>3</th>\n",
       "      <td>2018-11-08T02:00:00Z</td>\n",
       "      <td>3.453088</td>\n",
       "      <td>3.470182</td>\n",
       "      <td>3.435993</td>\n",
       "      <td>3.435993</td>\n",
       "      <td>3.432195</td>\n",
       "      <td>3.439792</td>\n",
       "      <td>142200</td>\n",
       "      <td>751735.00</td>\n",
       "      <td>NaN</td>\n",
       "      <td>NaN</td>\n",
       "      <td>NaN</td>\n",
       "      <td>NaN</td>\n",
       "    </tr>\n",
       "    <tr>\n",
       "      <th>4</th>\n",
       "      <td>2018-11-09T02:00:00Z</td>\n",
       "      <td>3.435993</td>\n",
       "      <td>3.453088</td>\n",
       "      <td>3.384710</td>\n",
       "      <td>3.401804</td>\n",
       "      <td>3.428396</td>\n",
       "      <td>3.435613</td>\n",
       "      <td>890600</td>\n",
       "      <td>771445.00</td>\n",
       "      <td>NaN</td>\n",
       "      <td>NaN</td>\n",
       "      <td>NaN</td>\n",
       "      <td>NaN</td>\n",
       "    </tr>\n",
       "    <tr>\n",
       "      <th>...</th>\n",
       "      <td>...</td>\n",
       "      <td>...</td>\n",
       "      <td>...</td>\n",
       "      <td>...</td>\n",
       "      <td>...</td>\n",
       "      <td>...</td>\n",
       "      <td>...</td>\n",
       "      <td>...</td>\n",
       "      <td>...</td>\n",
       "      <td>...</td>\n",
       "      <td>...</td>\n",
       "      <td>...</td>\n",
       "      <td>...</td>\n",
       "    </tr>\n",
       "    <tr>\n",
       "      <th>1066</th>\n",
       "      <td>2023-03-28T02:00:00Z</td>\n",
       "      <td>13.200000</td>\n",
       "      <td>13.400000</td>\n",
       "      <td>13.200000</td>\n",
       "      <td>13.400000</td>\n",
       "      <td>13.111111</td>\n",
       "      <td>12.997778</td>\n",
       "      <td>3045594</td>\n",
       "      <td>9816069.10</td>\n",
       "      <td>21.702183</td>\n",
       "      <td>23.306204</td>\n",
       "      <td>12.613046</td>\n",
       "      <td>61.642682</td>\n",
       "    </tr>\n",
       "    <tr>\n",
       "      <th>1067</th>\n",
       "      <td>2023-03-29T02:00:00Z</td>\n",
       "      <td>13.400000</td>\n",
       "      <td>13.400000</td>\n",
       "      <td>13.200000</td>\n",
       "      <td>13.400000</td>\n",
       "      <td>13.155556</td>\n",
       "      <td>13.055556</td>\n",
       "      <td>2345537</td>\n",
       "      <td>9193328.75</td>\n",
       "      <td>22.278455</td>\n",
       "      <td>22.420783</td>\n",
       "      <td>12.133867</td>\n",
       "      <td>61.642682</td>\n",
       "    </tr>\n",
       "    <tr>\n",
       "      <th>1068</th>\n",
       "      <td>2023-03-30T02:00:00Z</td>\n",
       "      <td>13.300000</td>\n",
       "      <td>13.400000</td>\n",
       "      <td>13.100000</td>\n",
       "      <td>13.100000</td>\n",
       "      <td>13.166667</td>\n",
       "      <td>13.106667</td>\n",
       "      <td>2626446</td>\n",
       "      <td>8446174.15</td>\n",
       "      <td>22.295488</td>\n",
       "      <td>21.124386</td>\n",
       "      <td>13.359647</td>\n",
       "      <td>54.805689</td>\n",
       "    </tr>\n",
       "    <tr>\n",
       "      <th>1069</th>\n",
       "      <td>2023-03-31T02:00:00Z</td>\n",
       "      <td>13.200000</td>\n",
       "      <td>13.300000</td>\n",
       "      <td>13.000000</td>\n",
       "      <td>13.300000</td>\n",
       "      <td>13.233333</td>\n",
       "      <td>13.151111</td>\n",
       "      <td>3787206</td>\n",
       "      <td>8225572.90</td>\n",
       "      <td>21.814464</td>\n",
       "      <td>19.886097</td>\n",
       "      <td>14.530482</td>\n",
       "      <td>58.139077</td>\n",
       "    </tr>\n",
       "    <tr>\n",
       "      <th>1070</th>\n",
       "      <td>2023-04-03T02:00:00Z</td>\n",
       "      <td>13.300000</td>\n",
       "      <td>13.300000</td>\n",
       "      <td>13.000000</td>\n",
       "      <td>13.100000</td>\n",
       "      <td>13.233333</td>\n",
       "      <td>13.180000</td>\n",
       "      <td>3270709</td>\n",
       "      <td>8238226.05</td>\n",
       "      <td>21.367798</td>\n",
       "      <td>18.705270</td>\n",
       "      <td>13.667669</td>\n",
       "      <td>53.860885</td>\n",
       "    </tr>\n",
       "  </tbody>\n",
       "</table>\n",
       "<p>1071 rows × 13 columns</p>\n",
       "</div>"
      ],
      "text/plain": [
       "                      time       open       high        low      close  \\\n",
       "0     2018-11-05T02:00:00Z   3.487277   3.487277   3.435993   3.435993   \n",
       "1     2018-11-06T02:00:00Z   3.435993   3.453088   3.401804   3.401804   \n",
       "2     2018-11-07T02:00:00Z   3.453088   3.470182   3.401804   3.453088   \n",
       "3     2018-11-08T02:00:00Z   3.453088   3.470182   3.435993   3.435993   \n",
       "4     2018-11-09T02:00:00Z   3.435993   3.453088   3.384710   3.401804   \n",
       "...                    ...        ...        ...        ...        ...   \n",
       "1066  2023-03-28T02:00:00Z  13.200000  13.400000  13.200000  13.400000   \n",
       "1067  2023-03-29T02:00:00Z  13.400000  13.400000  13.200000  13.400000   \n",
       "1068  2023-03-30T02:00:00Z  13.300000  13.400000  13.100000  13.100000   \n",
       "1069  2023-03-31T02:00:00Z  13.200000  13.300000  13.000000  13.300000   \n",
       "1070  2023-04-03T02:00:00Z  13.300000  13.300000  13.000000  13.100000   \n",
       "\n",
       "             MA  Smoothing Line   Volume   Volume MA     ADX_14     DMP_14  \\\n",
       "0      3.441692        3.462585   190600   870980.00        NaN        NaN   \n",
       "1      3.439792        3.450809   463500   842750.00        NaN        NaN   \n",
       "2      3.435993        3.443591   296100   776440.00        NaN        NaN   \n",
       "3      3.432195        3.439792   142200   751735.00        NaN        NaN   \n",
       "4      3.428396        3.435613   890600   771445.00        NaN        NaN   \n",
       "...         ...             ...      ...         ...        ...        ...   \n",
       "1066  13.111111       12.997778  3045594  9816069.10  21.702183  23.306204   \n",
       "1067  13.155556       13.055556  2345537  9193328.75  22.278455  22.420783   \n",
       "1068  13.166667       13.106667  2626446  8446174.15  22.295488  21.124386   \n",
       "1069  13.233333       13.151111  3787206  8225572.90  21.814464  19.886097   \n",
       "1070  13.233333       13.180000  3270709  8238226.05  21.367798  18.705270   \n",
       "\n",
       "         DMN_14     RSI_14  \n",
       "0           NaN        NaN  \n",
       "1           NaN        NaN  \n",
       "2           NaN        NaN  \n",
       "3           NaN        NaN  \n",
       "4           NaN        NaN  \n",
       "...         ...        ...  \n",
       "1066  12.613046  61.642682  \n",
       "1067  12.133867  61.642682  \n",
       "1068  13.359647  54.805689  \n",
       "1069  14.530482  58.139077  \n",
       "1070  13.667669  53.860885  \n",
       "\n",
       "[1071 rows x 13 columns]"
      ]
     },
     "execution_count": 11,
     "metadata": {},
     "output_type": "execute_result"
    }
   ],
   "source": [
    "df"
   ]
  },
  {
   "cell_type": "code",
   "execution_count": 2,
   "metadata": {},
   "outputs": [
    {
     "name": "stderr",
     "output_type": "stream",
     "text": [
      "/opt/anaconda3/envs/deepq/lib/python3.8/site-packages/numba/core/decorators.py:262: NumbaDeprecationWarning: numba.generated_jit is deprecated. Please see the documentation at: https://numba.readthedocs.io/en/stable/reference/deprecation.html#deprecation-of-generated-jit for more information and advice on a suitable replacement.\n",
      "  warnings.warn(msg, NumbaDeprecationWarning)\n"
     ]
    }
   ],
   "source": [
    "import vectorbtpro as vbt"
   ]
  },
  {
   "cell_type": "code",
   "execution_count": 3,
   "metadata": {},
   "outputs": [],
   "source": [
    "class Port:\n",
    "    def __init__(\n",
    "            self,\n",
    "            cash :float\n",
    "    ) -> None:\n",
    "        self.port = vbt.pf_enums.ExecState(\n",
    "            cash=cash,\n",
    "            position=0.0,\n",
    "            debt=0.0,\n",
    "            locked_cash=0.0,\n",
    "            free_cash=cash,\n",
    "            val_price=0.0,\n",
    "            value=0.0\n",
    "        )\n",
    "\n",
    "    def get_current_cash(self) -> float:\n",
    "        return self.port.free_cash\n",
    "    \n",
    "    def get_current_position(self) -> float:\n",
    "        return self.port.position\n",
    "    \n",
    "    def create_order(\n",
    "        self,\n",
    "        size: float,\n",
    "        price: float,\n",
    "        direction: float,\n",
    "        fees : float\n",
    "    ) -> vbt.portfolio.enums.Order:\n",
    "\n",
    "        order = vbt.pf_nb.order_nb(\n",
    "            size=size,\n",
    "            price=price,\n",
    "            direction=direction,\n",
    "            size_granularity=1.0,\n",
    "            log=True,\n",
    "            fees=fees\n",
    "        )\n",
    "        return order\n",
    "\n",
    "    def process_order(self,order) -> None:\n",
    "        order_result, self.port = vbt.pf_nb.process_order_nb(\n",
    "            0, 0, 0,\n",
    "            exec_state=self.port,\n",
    "            order=order,\n",
    "            update_value=True,\n",
    "        )\n",
    "        return order_result\n",
    "\n",
    "    def open_long(self,price : float,size : float,fees :float) -> None:\n",
    "        order = self.create_order(\n",
    "            size=size,\n",
    "            price=price,\n",
    "            direction=0,\n",
    "            fees=fees\n",
    "        )\n",
    "        self.process_order(order)\n",
    "\n",
    "    def open_short(self,price : float,size : float,fees :float) -> None:\n",
    "        order = self.create_order(\n",
    "            size=size,\n",
    "            price=price,\n",
    "            direction=1,\n",
    "            fees=fees\n",
    "        )\n",
    "        self.process_order(order)\n",
    "\n",
    "    def close_long(self,price : float,fees :float) -> None:\n",
    "        order = self.create_order(\n",
    "            size= -self.get_current_position(),\n",
    "            price=price,\n",
    "            direction=0,\n",
    "            fees=fees\n",
    "        )\n",
    "        p = self.process_order(order)\n",
    "\n",
    "        return p\n",
    "        \n",
    "\n",
    "    def close_short(self,price : float,fees :float) -> None:\n",
    "        order = self.create_order(\n",
    "            size=self.get_current_position(),\n",
    "            price=price,\n",
    "            direction=1,\n",
    "            fees=fees\n",
    "        )\n",
    "        self.process_order(order)\n",
    "    \n",
    "    def get_profit(self) -> float:\n",
    "        return self.port.value\n"
   ]
  },
  {
   "cell_type": "code",
   "execution_count": 15,
   "metadata": {},
   "outputs": [
    {
     "name": "stdout",
     "output_type": "stream",
     "text": [
      "ExecState(cash=30.0, position=0.0, debt=0.0, locked_cash=0.0, free_cash=30.0, val_price=0.0, value=0.0)\n"
     ]
    }
   ],
   "source": [
    "port = Port(cash=30.0)\n",
    "print(port.port)\n"
   ]
  },
  {
   "cell_type": "code",
   "execution_count": 19,
   "metadata": {},
   "outputs": [
    {
     "name": "stdout",
     "output_type": "stream",
     "text": [
      "- open long -\n",
      "4.0\n"
     ]
    }
   ],
   "source": [
    "print(\"- open long -\")\n",
    "port.open_long(price=1.0,size=1.0,fees=0.01)\n",
    "print(port.port.position)\n",
    "\n"
   ]
  },
  {
   "cell_type": "code",
   "execution_count": 12,
   "metadata": {},
   "outputs": [
    {
     "name": "stdout",
     "output_type": "stream",
     "text": [
      "- close long -\n",
      "ExecState(cash=30.0, position=0.0, debt=0.0, locked_cash=0.0, free_cash=30.0, val_price=0.0, value=0.0)\n"
     ]
    }
   ],
   "source": [
    "print(\"- close long -\")\n",
    "port.close_long(price=100.0,fees=0.01)\n",
    "print(port.port)"
   ]
  },
  {
   "cell_type": "code",
   "execution_count": 13,
   "metadata": {},
   "outputs": [
    {
     "name": "stdout",
     "output_type": "stream",
     "text": [
      "- current cash -\n",
      "30.0\n"
     ]
    }
   ],
   "source": [
    "print(\"- current cash -\")\n",
    "print(port.get_current_cash())"
   ]
  },
  {
   "cell_type": "code",
   "execution_count": 14,
   "metadata": {},
   "outputs": [
    {
     "data": {
      "text/plain": [
       "<bound method Port.get_current_cash of <__main__.Port object at 0x7fbbdb1b0af0>>"
      ]
     },
     "execution_count": 14,
     "metadata": {},
     "output_type": "execute_result"
    }
   ],
   "source": [
    "port.get_current_cash"
   ]
  },
  {
   "cell_type": "code",
   "execution_count": 58,
   "metadata": {},
   "outputs": [
    {
     "data": {
      "text/plain": [
       "0.0"
      ]
     },
     "execution_count": 58,
     "metadata": {},
     "output_type": "execute_result"
    }
   ],
   "source": [
    "port.port.position"
   ]
  },
  {
   "cell_type": "code",
   "execution_count": null,
   "metadata": {},
   "outputs": [],
   "source": []
  }
 ],
 "metadata": {
  "kernelspec": {
   "display_name": "deepq",
   "language": "python",
   "name": "python3"
  },
  "language_info": {
   "codemirror_mode": {
    "name": "ipython",
    "version": 3
   },
   "file_extension": ".py",
   "mimetype": "text/x-python",
   "name": "python",
   "nbconvert_exporter": "python",
   "pygments_lexer": "ipython3",
   "version": "3.8.16"
  },
  "orig_nbformat": 4
 },
 "nbformat": 4,
 "nbformat_minor": 2
}
